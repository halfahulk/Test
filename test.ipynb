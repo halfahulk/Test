{
 "cells": [
  {
   "cell_type": "code",
   "execution_count": 1,
   "id": "cce3038a-e86a-4e00-bdeb-4d85d42f0c05",
   "metadata": {},
   "outputs": [],
   "source": [
    "import pandas as pd\n",
    "import numpy as np\n",
    "import os\n",
    "#import tensorflow as tf\n",
    "import matplotlib.pyplot as plt\n",
    "import librosa\n"
   ]
  },
  {
   "cell_type": "code",
   "execution_count": 2,
   "id": "123c7484-2cd9-4768-9d78-0373544cc65f",
   "metadata": {},
   "outputs": [
    {
     "name": "stdout",
     "output_type": "stream",
     "text": [
      "test test test\n"
     ]
    }
   ],
   "source": [
    "print (\"test test test\")\n",
    "       "
   ]
  },
  {
   "cell_type": "code",
   "execution_count": 1,
   "id": "058fcfc0-5930-4e0e-afcc-48691780cb61",
   "metadata": {},
   "outputs": [
    {
     "name": "stdout",
     "output_type": "stream",
     "text": [
      "Commit action being tested\n"
     ]
    }
   ],
   "source": [
    "print (\"Commit action being tested\")"
   ]
  },
  {
   "cell_type": "code",
   "execution_count": 2,
   "id": "a3d9be74-0190-48b6-9cb0-d6ac76530ba4",
   "metadata": {
    "tags": []
   },
   "outputs": [
    {
     "name": "stdout",
     "output_type": "stream",
     "text": [
      "commit action practice\n"
     ]
    }
   ],
   "source": [
    "print(\"commit action practice\")"
   ]
  },
  {
   "cell_type": "code",
   "execution_count": null,
   "id": "d8b8e6fc-24e9-4788-8a98-aa950d9089bc",
   "metadata": {},
   "outputs": [],
   "source": []
  }
 ],
 "metadata": {
  "kernelspec": {
   "display_name": "SentiAnalysis",
   "language": "python",
   "name": "sentianalysis"
  },
  "language_info": {
   "codemirror_mode": {
    "name": "ipython",
    "version": 3
   },
   "file_extension": ".py",
   "mimetype": "text/x-python",
   "name": "python",
   "nbconvert_exporter": "python",
   "pygments_lexer": "ipython3",
   "version": "3.11.4"
  }
 },
 "nbformat": 4,
 "nbformat_minor": 5
}
